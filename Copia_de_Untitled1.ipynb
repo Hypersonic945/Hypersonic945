{
  "nbformat": 4,
  "nbformat_minor": 0,
  "metadata": {
    "colab": {
      "provenance": [],
      "authorship_tag": "ABX9TyOq6Qzm0NeV7Igq9DpE0S+l",
      "include_colab_link": true
    },
    "kernelspec": {
      "name": "python3",
      "display_name": "Python 3"
    },
    "language_info": {
      "name": "python"
    }
  },
  "cells": [
    {
      "cell_type": "markdown",
      "metadata": {
        "id": "view-in-github",
        "colab_type": "text"
      },
      "source": [
        "<a href=\"https://colab.research.google.com/github/Hypersonic945/Hypersonic945/blob/main/Copia_de_Untitled1.ipynb\" target=\"_parent\"><img src=\"https://colab.research.google.com/assets/colab-badge.svg\" alt=\"Open In Colab\"/></a>"
      ]
    },
    {
      "cell_type": "code",
      "source": [
        "a = int(input(\"ingrese el valor a \"))\n",
        "b = int(input(\"ingrese el valor b \"))\n",
        "\n",
        "print(\"suma:\", a + b)\n",
        "print(\"resta:\", a - b)\n",
        "print(\"multiplicacion:\", a * b)\n",
        "print(\"divicion:\", a / b)\n",
        "print(\"parte entera:\", a//b)"
      ],
      "metadata": {
        "colab": {
          "base_uri": "https://localhost:8080/"
        },
        "id": "OvYZzEI6lpgx",
        "outputId": "5d0db8b5-ada4-4479-afd1-7b1d1a97cac1"
      },
      "execution_count": null,
      "outputs": [
        {
          "output_type": "stream",
          "name": "stdout",
          "text": [
            "ingrese el valor a 18\n",
            "ingrese el valor b 15\n",
            "suma: 33\n",
            "resta: 3\n",
            "multiplicacion: 270\n",
            "divicion: 1.2\n",
            "parte entera: 1\n"
          ]
        }
      ]
    },
    {
      "cell_type": "code",
      "source": [
        "x = int(input(\"ingrese el valor de x \"))\n",
        "\n",
        "z = int(input(\"ingrese el valor de z \"))\n",
        "\n",
        "print(\"¿sus valores son iguales?\", x == z )\n",
        "\n",
        "print(\"¿x es mayor que z?\", x > z )\n",
        "\n",
        "print(\"¿x es menor que z?\", x < z )"
      ],
      "metadata": {
        "colab": {
          "base_uri": "https://localhost:8080/"
        },
        "id": "2_KzypjkqgvW",
        "outputId": "868a23d3-4c40-4f89-8851-7213f123c329"
      },
      "execution_count": null,
      "outputs": [
        {
          "output_type": "stream",
          "name": "stdout",
          "text": [
            "ingrese el valor de x 1\n",
            "ingrese el valor de z 2\n",
            "¿sus valores son iguales? False\n",
            "¿x es mayor que z? False\n",
            "¿x es menor que z? True\n"
          ]
        }
      ]
    },
    {
      "cell_type": "code",
      "source": [
        "x = int(input(\"ingrese el valor de x \"))\n",
        "z = int(input(\"ingrese el valor de z \"))\n",
        "c = x + z\n",
        "\n",
        "print(\"x es mayor que z y z es menor que c:\", x > z and z < c )\n",
        "print(\"x es mayor que z o z es menor que c:\", x >z or z < c)\n",
        "print(\"z es menor que c y z es menor que x:\", z < c and z < x)\n",
        "# no pos miau"
      ],
      "metadata": {
        "colab": {
          "base_uri": "https://localhost:8080/"
        },
        "id": "kI_6CvXIx6ra",
        "outputId": "3d195fea-8ab6-45b8-8490-f2e66982462a"
      },
      "execution_count": null,
      "outputs": [
        {
          "output_type": "stream",
          "name": "stdout",
          "text": [
            "ingrese el valor de x 9\n",
            "ingrese el valor de z 6\n",
            "x es mayor que z y z es menor que c: True\n",
            "x es mayor que z o z es menor que c: True\n",
            "z es menor que c y z es menor que x: True\n"
          ]
        }
      ]
    },
    {
      "cell_type": "code",
      "source": [
        "print(bool(None))\n",
        "print(bool(False))"
      ],
      "metadata": {
        "id": "DSpQLnrv6EfE",
        "colab": {
          "base_uri": "https://localhost:8080/"
        },
        "outputId": "578f5e68-4dbb-416b-9e63-9a1a9c34a80c"
      },
      "execution_count": null,
      "outputs": [
        {
          "output_type": "stream",
          "name": "stdout",
          "text": [
            "False\n",
            "False\n"
          ]
        }
      ]
    },
    {
      "cell_type": "code",
      "source": [
        "frutas = [\"manzana\", \"banano\", \"fresa\"]\n",
        "print(frutas)"
      ],
      "metadata": {
        "id": "brVPfzcn0ZOz"
      },
      "execution_count": null,
      "outputs": []
    },
    {
      "cell_type": "code",
      "source": [
        "print(frutas[1])"
      ],
      "metadata": {
        "id": "4YCaEx5d4s2M"
      },
      "execution_count": null,
      "outputs": []
    },
    {
      "cell_type": "code",
      "source": [
        "autos = [\"Abarth\", \"Apollo\", \"Ferrari\", \"Fiat\", \"Fornasaria\", \"Iveco\"]\n",
        "print(autos)"
      ],
      "metadata": {
        "colab": {
          "base_uri": "https://localhost:8080/"
        },
        "id": "2WDQRk9k5VXN",
        "outputId": "c58cd1d6-74d3-46b2-eb1a-a9276d33f7a2"
      },
      "execution_count": null,
      "outputs": [
        {
          "output_type": "stream",
          "name": "stdout",
          "text": [
            "['Abarth', 'Apollo', 'Ferrari', 'Fiat', 'Fornasaria', 'Iveco', 'Ferrari']\n"
          ]
        }
      ]
    },
    {
      "cell_type": "code",
      "source": [
        "print(autos[2])\n",
        "print(autos[4])\n",
        "#a XD"
      ],
      "metadata": {
        "id": "u4NZrT586hWh"
      },
      "execution_count": null,
      "outputs": []
    },
    {
      "cell_type": "code",
      "source": [
        "frutas = [\"manzana\", \"banana\", \"fresa\", \"naranja\", \"kiwi\", \"melon\", \"mango\"]\n",
        "print(frutas, len(frutas))\n",
        "frutas[2] = \"granada\"\n",
        "print(frutas, len(frutas))\n",
        "frutas[1:4] = \"arandanos\", \"ciruela\", \"sandia\"\n",
        "print(frutas, len(frutas))\n",
        "frutas[2:5] = \"granadilla\"\n",
        "print(frutas, len(frutas))"
      ],
      "metadata": {
        "id": "3gnHu9k67Hxs",
        "outputId": "5e17856f-9250-4eaf-c5e7-a1870d0b3d1d",
        "colab": {
          "base_uri": "https://localhost:8080/"
        }
      },
      "execution_count": null,
      "outputs": [
        {
          "output_type": "stream",
          "name": "stdout",
          "text": [
            "['manzana', 'banana', 'fresa', 'naranja', 'kiwi', 'melon', 'mango'] 7\n",
            "['manzana', 'banana', 'granada', 'naranja', 'kiwi', 'melon', 'mango'] 7\n",
            "['manzana', 'arandanos', 'ciruela', 'sandia', 'kiwi', 'melon', 'mango'] 7\n",
            "['manzana', 'arandanos', 'g', 'r', 'a', 'n', 'a', 'd', 'i', 'l', 'l', 'a', 'melon', 'mango'] 14\n"
          ]
        }
      ]
    }
  ]
}