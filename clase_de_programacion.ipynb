{
  "nbformat": 4,
  "nbformat_minor": 0,
  "metadata": {
    "colab": {
      "provenance": [],
      "authorship_tag": "ABX9TyOyoODulwgbI6zwPCp/aG49",
      "include_colab_link": true
    },
    "kernelspec": {
      "name": "python3",
      "display_name": "Python 3"
    },
    "language_info": {
      "name": "python"
    }
  },
  "cells": [
    {
      "cell_type": "markdown",
      "metadata": {
        "id": "view-in-github",
        "colab_type": "text"
      },
      "source": [
        "<a href=\"https://colab.research.google.com/github/Hypersonic945/Hypersonic945/blob/main/clase_de_programacion.ipynb\" target=\"_parent\"><img src=\"https://colab.research.google.com/assets/colab-badge.svg\" alt=\"Open In Colab\"/></a>"
      ]
    },
    {
      "cell_type": "code",
      "source": [
        "a = int(input(\"ingrese el valor a \"))\n",
        "b = int(input(\"ingrese el valor b \"))\n",
        "\n",
        "print(\"suma:\", a + b)\n",
        "print(\"resta:\", a - b)\n",
        "print(\"multiplicacion:\", a * b)\n",
        "print(\"divicion:\", a / b)\n",
        "print(\"parte entera:\", a//b)"
      ],
      "metadata": {
        "colab": {
          "base_uri": "https://localhost:8080/"
        },
        "id": "OvYZzEI6lpgx",
        "outputId": "f9b7786f-dfc0-4f35-ba8f-b578e7a8ba53"
      },
      "execution_count": null,
      "outputs": [
        {
          "output_type": "stream",
          "name": "stdout",
          "text": [
            "ingrese el valor a 12\n",
            "ingrese el valor b 4\n",
            "suma: 16\n",
            "resta: 8\n",
            "multiplicacion: 48\n",
            "divicion: 3.0\n",
            "parte entera: 3\n"
          ]
        }
      ]
    },
    {
      "cell_type": "code",
      "source": [
        "x = int(input(\"ingrese el valor de x \"))\n",
        "\n",
        "z = int(input(\"ingrese el valor de z \"))\n",
        "\n",
        "print(\"¿sus valores son iguales?\", x == z )\n",
        "\n",
        "print(\"¿x es mayor que z?\", x > z )\n",
        "\n",
        "print(\"¿x es menor que z?\", x < z )"
      ],
      "metadata": {
        "colab": {
          "base_uri": "https://localhost:8080/"
        },
        "id": "2_KzypjkqgvW",
        "outputId": "61e1d024-4556-4e17-c0aa-14beeb0c0f0a"
      },
      "execution_count": null,
      "outputs": [
        {
          "output_type": "stream",
          "name": "stdout",
          "text": [
            "ingrese el valor de x 12\n",
            "ingrese el valor de z 87\n",
            "¿sus valores son iguales? False\n",
            "¿x es mayor que z? False\n",
            "¿x es menor que z? True\n"
          ]
        }
      ]
    },
    {
      "cell_type": "code",
      "source": [
        "x = int(input(\"ingrese el valor de x \"))\n",
        "z = int(input(\"ingrese el valor de z \"))\n",
        "c = x + z\n",
        "\n",
        "print(\"x es mayor que z y z es menor que c:\", x > z and z < c )\n",
        "print(\"x es mayor que z o z es menor que c:\", x >z or z < c)\n",
        "print(\"z es menor que c y z es menor que x:\", z < c and z < x)\n",
        "# no pos miau"
      ],
      "metadata": {
        "colab": {
          "base_uri": "https://localhost:8080/"
        },
        "id": "kI_6CvXIx6ra",
        "outputId": "307f616f-35fe-4f39-f034-8de969e4e44c"
      },
      "execution_count": null,
      "outputs": [
        {
          "output_type": "stream",
          "name": "stdout",
          "text": [
            "ingrese el valor de x 26\n",
            "ingrese el valor de z 36\n",
            "x es mayor que z y z es menor que c: False\n",
            "x es mayor que z o z es menor que c: True\n",
            "z es menor que c y z es menor que x: False\n"
          ]
        }
      ]
    },
    {
      "cell_type": "code",
      "source": [
        "print(bool(None))\n",
        "print(bool(False))"
      ],
      "metadata": {
        "id": "DSpQLnrv6EfE",
        "colab": {
          "base_uri": "https://localhost:8080/"
        },
        "outputId": "ae239c57-30b2-42df-edb8-4e106673b9b1"
      },
      "execution_count": null,
      "outputs": [
        {
          "output_type": "stream",
          "name": "stdout",
          "text": [
            "False\n",
            "False\n"
          ]
        }
      ]
    },
    {
      "cell_type": "code",
      "source": [
        "frutas = [\"manzana\", \"banano\", \"fresa\"]\n",
        "print(frutas)"
      ],
      "metadata": {
        "id": "brVPfzcn0ZOz",
        "colab": {
          "base_uri": "https://localhost:8080/"
        },
        "outputId": "4cc181b5-b6d8-4b04-87b7-3d5aa6fcbf4d"
      },
      "execution_count": null,
      "outputs": [
        {
          "output_type": "stream",
          "name": "stdout",
          "text": [
            "['manzana', 'banano', 'fresa']\n"
          ]
        }
      ]
    },
    {
      "cell_type": "code",
      "source": [
        "print(frutas[1])"
      ],
      "metadata": {
        "id": "4YCaEx5d4s2M",
        "colab": {
          "base_uri": "https://localhost:8080/"
        },
        "outputId": "392db8f8-f409-4104-9df4-3c0824f9fa82"
      },
      "execution_count": null,
      "outputs": [
        {
          "output_type": "stream",
          "name": "stdout",
          "text": [
            "banano\n"
          ]
        }
      ]
    },
    {
      "cell_type": "code",
      "source": [
        "autos = [\"Abarth\", \"Apollo\", \"Ferrari\", \"Fiat\", \"Fornasaria\", \"Iveco\"]\n",
        "print(autos)"
      ],
      "metadata": {
        "colab": {
          "base_uri": "https://localhost:8080/"
        },
        "id": "2WDQRk9k5VXN",
        "outputId": "4ea87bcd-8e97-4980-fe9f-28990d1ac888"
      },
      "execution_count": null,
      "outputs": [
        {
          "output_type": "stream",
          "name": "stdout",
          "text": [
            "['Abarth', 'Apollo', 'Ferrari', 'Fiat', 'Fornasaria', 'Iveco']\n"
          ]
        }
      ]
    },
    {
      "cell_type": "code",
      "source": [
        "print(autos[2])\n",
        "print(autos[4])\n",
        "#a XD"
      ],
      "metadata": {
        "id": "u4NZrT586hWh",
        "colab": {
          "base_uri": "https://localhost:8080/"
        },
        "outputId": "66bfc048-137b-4ee8-c19a-fee0c7cc1c4d"
      },
      "execution_count": null,
      "outputs": [
        {
          "output_type": "stream",
          "name": "stdout",
          "text": [
            "Ferrari\n",
            "Fornasaria\n"
          ]
        }
      ]
    },
    {
      "cell_type": "code",
      "source": [
        "frutas = [\"manzana\", \"banana\", \"fresa\", \"naranja\", \"kiwi\", \"melon\", \"mango\"]\n",
        "print(frutas, len(frutas))\n",
        "frutas[2] = \"granada\"\n",
        "print(frutas, len(frutas))\n",
        "frutas[1:4] = [\"arandanos\", \"ciruela\", \"sandia\"]\n",
        "print(frutas, len(frutas))\n",
        "frutas[2:5] = [\"granadilla\"]\n",
        "print(frutas, len(frutas))"
      ],
      "metadata": {
        "id": "3gnHu9k67Hxs",
        "outputId": "941b7baa-68ea-45e2-ead2-4393f4432836",
        "colab": {
          "base_uri": "https://localhost:8080/"
        }
      },
      "execution_count": null,
      "outputs": [
        {
          "output_type": "stream",
          "name": "stdout",
          "text": [
            "['manzana', 'banana', 'fresa', 'naranja', 'kiwi', 'melon', 'mango'] 7\n",
            "['manzana', 'banana', 'granada', 'naranja', 'kiwi', 'melon', 'mango'] 7\n",
            "['manzana', 'arandanos', 'ciruela', 'sandia', 'kiwi', 'melon', 'mango'] 7\n",
            "['manzana', 'arandanos', 'granadilla', 'melon', 'mango'] 5\n"
          ]
        }
      ]
    },
    {
      "cell_type": "code",
      "source": [
        "frutas = [\"manzana\", \"banana\", \"fresa\"]\n",
        "print(frutas, len(frutas))\n",
        "frutas.insert(2, \"pera\")\n",
        "print(frutas, len(frutas))"
      ],
      "metadata": {
        "colab": {
          "base_uri": "https://localhost:8080/"
        },
        "id": "FN4GtYc7_tKN",
        "outputId": "d84731f0-042c-4d8d-c699-7f45810181c2"
      },
      "execution_count": null,
      "outputs": [
        {
          "output_type": "stream",
          "name": "stdout",
          "text": [
            "['manzana', 'banana', 'fresa'] 3\n",
            "['manzana', 'banana', 'pera', 'fresa'] 4\n"
          ]
        }
      ]
    },
    {
      "cell_type": "code",
      "source": [
        "frutas1 = [\"manzana\", \"banano\", \"fresa\"]\n",
        "frutas2 = [\"naranja\", \"kiwi\", \"melon\"]\n",
        "print(frutas1, len(frutas1,))\n",
        "print(frutas2, len(frutas2))\n",
        "frutas2.append(\"sandia\")\n",
        "print(frutas2, len(frutas2))\n",
        "frutas1.insert(1, \"aranadanos\")\n",
        "print(frutas1, len(frutas1))\n",
        "frutas = frutas1 + frutas2\n",
        "print(frutas, len(frutas))"
      ],
      "metadata": {
        "colab": {
          "base_uri": "https://localhost:8080/"
        },
        "id": "Ag0FXCLgAfuk",
        "outputId": "620b463b-a79d-42ef-8ec3-d0b25073951c"
      },
      "execution_count": null,
      "outputs": [
        {
          "output_type": "stream",
          "name": "stdout",
          "text": [
            "['manzana', 'banano', 'fresa'] 3\n",
            "['naranja', 'kiwi', 'melon'] 3\n",
            "['naranja', 'kiwi', 'melon', 'sandia'] 4\n",
            "['manzana', 'aranadanos', 'banano', 'fresa'] 4\n",
            "['manzana', 'aranadanos', 'banano', 'fresa', 'naranja', 'kiwi', 'melon', 'sandia'] 8\n"
          ]
        }
      ]
    },
    {
      "cell_type": "code",
      "source": [
        "frutas = [\"manzana\", \"banano\", \"fresa\", \"naranja\", \"kiwi\", \"melon\"]\n",
        "print(frutas, len(frutas))\n",
        "del(frutas)"
      ],
      "metadata": {
        "colab": {
          "base_uri": "https://localhost:8080/"
        },
        "id": "DjRcbjtILMjb",
        "outputId": "61a0725a-9c8d-4e53-ac0f-59409be2e078"
      },
      "execution_count": null,
      "outputs": [
        {
          "output_type": "stream",
          "name": "stdout",
          "text": [
            "['manzana', 'banano', 'fresa', 'naranja', 'kiwi', 'melon'] 6\n"
          ]
        }
      ]
    },
    {
      "cell_type": "code",
      "source": [
        "frutas = [\"manzana\", \"banano\", \"fresa\", \"sandia\"]\n",
        "primero,*_,ultimo = frutas\n",
        "print(primero)\n",
        "print(ultimo)\n",
        "print(_)"
      ],
      "metadata": {
        "colab": {
          "base_uri": "https://localhost:8080/"
        },
        "id": "3YY0I5NmDOOZ",
        "outputId": "a65c8b6f-89ee-4b0c-a131-fabcfcdc2560"
      },
      "execution_count": null,
      "outputs": [
        {
          "output_type": "stream",
          "name": "stdout",
          "text": [
            "manzana\n",
            "sandia\n",
            "['banano', 'fresa']\n"
          ]
        }
      ]
    },
    {
      "cell_type": "code",
      "source": [
        "frutas = [\"manzana\", \"banano\", \"fresa\", \"sandia\"]\n",
        "primero,segundo,*_ = frutas\n",
        "print(primero)\n",
        "print(segundo)\n",
        "print(_)"
      ],
      "metadata": {
        "colab": {
          "base_uri": "https://localhost:8080/"
        },
        "id": "IWbr58PXLOuI",
        "outputId": "581a94ab-cc6b-402c-a8ff-5f1111547e71"
      },
      "execution_count": null,
      "outputs": [
        {
          "output_type": "stream",
          "name": "stdout",
          "text": [
            "manzana\n",
            "banano\n",
            "['fresa', 'sandia']\n"
          ]
        }
      ]
    },
    {
      "cell_type": "code",
      "source": [
        "frutas = [\"manzana\", \"banano\", \"fresa\", \"sandia\"]\n",
        "*_, antepenultimo, ultimo = frutas\n",
        "print(antepenultimo)\n",
        "print(ultimo)\n",
        "print(_)"
      ],
      "metadata": {
        "colab": {
          "base_uri": "https://localhost:8080/"
        },
        "id": "gb0KxutwLh0_",
        "outputId": "efb19f3b-32e3-4133-92d0-f6a1853e0408"
      },
      "execution_count": null,
      "outputs": [
        {
          "output_type": "stream",
          "name": "stdout",
          "text": [
            "fresa\n",
            "sandia\n",
            "['manzana', 'banano']\n"
          ]
        }
      ]
    },
    {
      "cell_type": "code",
      "source": [
        "frutas = [\"manzana\", \"banano\", \"fresa\", \"sandia\"]\n",
        "primero,segundo,*_,ultimo = frutas\n",
        "print(primero)\n",
        "print(segundo)\n",
        "print(ultimo)\n",
        "print(_)"
      ],
      "metadata": {
        "colab": {
          "base_uri": "https://localhost:8080/"
        },
        "id": "Qvu-yksoL5KA",
        "outputId": "188917e3-fab3-453f-8b9c-143d7df8d53d"
      },
      "execution_count": null,
      "outputs": [
        {
          "output_type": "stream",
          "name": "stdout",
          "text": [
            "manzana\n",
            "banano\n",
            "sandia\n",
            "['fresa']\n"
          ]
        }
      ]
    },
    {
      "cell_type": "code",
      "source": [
        "paises = (\"Alemania\", \"Austria\", \"Andorra\", \"Bélgica\", \"Chipre\", \"Eslovaquia\")\n",
        "print(paises[3])\n",
        "print(paises[:3])\n",
        "print(paises[4:])\n",
        "print(paises[1:])\n",
        "pais = ('colombia')\n",
        "print(pais)"
      ],
      "metadata": {
        "colab": {
          "base_uri": "https://localhost:8080/"
        },
        "id": "urt7wR1HqDQ2",
        "outputId": "c8b15617-a4d9-4f19-b5a0-a4347950fa7e"
      },
      "execution_count": null,
      "outputs": [
        {
          "output_type": "stream",
          "name": "stdout",
          "text": [
            "Bélgica\n",
            "('Alemania', 'Austria', 'Andorra')\n",
            "('Chipre', 'Eslovaquia')\n",
            "('Austria', 'Andorra', 'Bélgica', 'Chipre', 'Eslovaquia')\n",
            "colombia\n",
            "<class 'type'> ('Alemania', 'Austria', 'Andorra', 'Bélgica', 'Chipre', 'Eslovaquia')\n"
          ]
        }
      ]
    },
    {
      "cell_type": "code",
      "source": [
        "animales = (\"perro\", \"loro\", \"delfin\", \"castor\", \"gato\", \"delfin\", \"oso\")\n",
        "print(animales)\n",
        "animales2 = list(animales)\n",
        "animales2[2] = \"zorro\"\n",
        "print(animales2)\n",
        "animales2.remove(\"castor\")\n",
        "print(animales2)\n",
        "animales2.insert(2,\"leon\")\n",
        "print(animales2)\n",
        "animales2 = animales2 *2\n",
        "print(animales2)\n",
        "animales = tuple(animales2)"
      ],
      "metadata": {
        "colab": {
          "base_uri": "https://localhost:8080/"
        },
        "id": "mJUO-EatzDQi",
        "outputId": "b9b2e024-ea64-4293-ec99-02a08c894020"
      },
      "execution_count": null,
      "outputs": [
        {
          "output_type": "stream",
          "name": "stdout",
          "text": [
            "('perro', 'loro', 'delfin', 'castor', 'gato', 'delfin', 'oso')\n",
            "['perro', 'loro', 'zorro', 'castor', 'gato', 'delfin', 'oso']\n",
            "['perro', 'loro', 'zorro', 'gato', 'delfin', 'oso']\n",
            "['perro', 'loro', 'leon', 'zorro', 'gato', 'delfin', 'oso']\n",
            "['perro', 'loro', 'leon', 'zorro', 'gato', 'delfin', 'oso', 'perro', 'loro', 'leon', 'zorro', 'gato', 'delfin', 'oso']\n"
          ]
        }
      ]
    },
    {
      "cell_type": "code",
      "source": [
        "animales = (\"perro\", \"loro\", \"delfin\", \"perro\", \"zorro\", \"castor\", \"canario\")\n",
        "print(\"perro\" in animales)\n",
        "if"
      ],
      "metadata": {
        "id": "KxiXDuKW4Xj5",
        "colab": {
          "base_uri": "https://localhost:8080/"
        },
        "outputId": "a2276499-14c8-445b-f441-2b12fbc0976e"
      },
      "execution_count": null,
      "outputs": [
        {
          "output_type": "stream",
          "name": "stdout",
          "text": [
            "True\n"
          ]
        }
      ]
    },
    {
      "cell_type": "code",
      "source": [
        "comidas = {\"pasta\", \"pizza\", \"mariscos\"}\n",
        "comidas2 = {\"hamburguesa\", \"arepa\", \"pizza\"}\n",
        "print(comidas, len(comidas))\n",
        "print(comidas2, len(comidas2))\n",
        "comidas.update(comidas2)\n",
        "print(comidas, len(comidas))\n",
        "comidas.add('sushi')\n",
        "print(comidas, len(comidas))\n",
        "comidas.remove('hamburguesa')\n",
        "\n",
        "elemento_aleatorio = comidas.pop()\n",
        "print(\"elemento aleatorio eliminado: \", elemento_aleatorio)\n",
        "print(comidas, len(comidas))\n",
        "\n",
        "comidas.clear()\n",
        "print(comidas)"
      ],
      "metadata": {
        "id": "yC29GyN80nNP",
        "colab": {
          "base_uri": "https://localhost:8080/"
        },
        "outputId": "609530d5-d4db-45ba-d847-dcd96bd6a329"
      },
      "execution_count": null,
      "outputs": [
        {
          "output_type": "stream",
          "name": "stdout",
          "text": [
            "{'pizza', 'mariscos', 'pasta'} 3\n",
            "{'pizza', 'arepa', 'hamburguesa'} 3\n",
            "{'pizza', 'mariscos', 'arepa', 'pasta', 'hamburguesa'} 5\n",
            "{'pizza', 'mariscos', 'arepa', 'sushi', 'pasta', 'hamburguesa'} 6\n",
            "elemento aleatorio eliminado:  pizza\n",
            "{'mariscos', 'arepa', 'sushi', 'pasta'} 4\n",
            "set()\n"
          ]
        }
      ]
    },
    {
      "cell_type": "code",
      "source": [
        "comidas1 = {\"pasta\", \"pizza\", \"mariscos\", \"hamburguesa\", \"cafe\"}\n",
        "comidas2 = [\"pizza\", \"arepa\", \"sushi\", \"hamburguesa\", \"papas\"]\n",
        "comidas = comidas1.union(comidas2)\n",
        "print(comidas)"
      ],
      "metadata": {
        "colab": {
          "base_uri": "https://localhost:8080/"
        },
        "id": "NUvsT8Sr-HZQ",
        "outputId": "d7080727-3427-4b22-ac25-e91096732aff"
      },
      "execution_count": null,
      "outputs": [
        {
          "output_type": "stream",
          "name": "stdout",
          "text": [
            "{'pizza', 'mariscos', 'arepa', 'papas', 'sushi', 'cafe', 'pasta', 'hamburguesa'}\n"
          ]
        }
      ]
    },
    {
      "cell_type": "code",
      "source": [
        "comidas1 = {\"pasta\", \"pizza\", \"mariscos\"}\n",
        "comidas2 = [\"pizza\", \"arepa\", \"sushi\"]\n",
        "comidas1.intersection_update(comidas2)\n",
        "print(comidas1)"
      ],
      "metadata": {
        "colab": {
          "base_uri": "https://localhost:8080/"
        },
        "id": "hIKZFjUW_S0X",
        "outputId": "8c46753b-85c2-49d4-e310-62ff1c4a40cf"
      },
      "execution_count": null,
      "outputs": [
        {
          "output_type": "stream",
          "name": "stdout",
          "text": [
            "{'pizza'}\n"
          ]
        }
      ]
    },
    {
      "cell_type": "code",
      "source": [
        "comidas1 = {\"pasta\", \"pizza\", \"mariscos\"}\n",
        "comidas2 = [\"pizza\", \"arepa\", \"sushi\"]\n",
        "comidas.symmetric_difference_update(comidas2)\n",
        "comidas1"
      ],
      "metadata": {
        "colab": {
          "base_uri": "https://localhost:8080/"
        },
        "id": "s-r_wSaaAB1V",
        "outputId": "e6e49677-c1e0-4dd0-ec64-fe446179d065"
      },
      "execution_count": null,
      "outputs": [
        {
          "output_type": "execute_result",
          "data": {
            "text/plain": [
              "{'mariscos', 'pasta', 'pizza'}"
            ]
          },
          "metadata": {},
          "execution_count": 39
        }
      ]
    },
    {
      "cell_type": "code",
      "source": [
        "nevera = {\"salchichas\", \"carne\", \"leche\"}\n",
        "mercado = {\"carne\", \"huevos\", \"queso\"}\n",
        "print(nevera)\n",
        "print(mercado)\n",
        "nevera.intersection_update(mercado)\n",
        "nevera\n",
        "print(nevera)\n",
        "cosas = nevera.union(mercado)\n",
        "print(cosas)"
      ],
      "metadata": {
        "colab": {
          "base_uri": "https://localhost:8080/"
        },
        "id": "XxGCTgJXAMc1",
        "outputId": "fdaf07c5-7755-47b0-ac68-d02bdb173807"
      },
      "execution_count": null,
      "outputs": [
        {
          "output_type": "stream",
          "name": "stdout",
          "text": [
            "{'carne', 'leche', 'salchichas'}\n",
            "{'huevos', 'carne', 'queso'}\n",
            "{'carne'}\n",
            "{'huevos', 'carne', 'queso'}\n"
          ]
        }
      ]
    },
    {
      "cell_type": "code",
      "source": [
        "datos = {\n",
        "'nombre': 'Joan',\n",
        "'apellido': 'Douglas',\n",
        "'edad': '12',\n",
        "'trabajo': 'nada XD',\n",
        "'pasatiempo': 'videojuegos',\n",
        "}\n",
        "print(datos)\n",
        "print(len(datos))\n",
        "print(datos.keys())\n",
        "print(datos.values())\n",
        "print(datos.items())\n",
        "print('marca' in datos)"
      ],
      "metadata": {
        "colab": {
          "base_uri": "https://localhost:8080/"
        },
        "id": "cxICaw1o_4mW",
        "outputId": "ef68580f-faa1-4c15-b1ce-323b504c8a73"
      },
      "execution_count": null,
      "outputs": [
        {
          "output_type": "stream",
          "name": "stdout",
          "text": [
            "{'nombre': 'Joan', 'apellido': 'Douglas', 'edad': '12', 'trabajo': 'nada XD', 'pasatiempo': 'videojuegos'}\n",
            "5\n",
            "dict_keys(['nombre', 'apellido', 'edad', 'trabajo', 'pasatiempo'])\n",
            "dict_values(['Joan', 'Douglas', '12', 'nada XD', 'videojuegos'])\n",
            "dict_items([('nombre', 'Joan'), ('apellido', 'Douglas'), ('edad', '12'), ('trabajo', 'nada XD'), ('pasatiempo', 'videojuegos')])\n",
            "False\n"
          ]
        }
      ]
    },
    {
      "cell_type": "code",
      "source": [
        "carros1 = {\"marca\": \"ford\",\n",
        "          \"modelo\": \"mustang\",\n",
        "          \"agno\": 1964}\n",
        "\n",
        "print(\"carrros1: \", carros1)\n",
        "\n",
        "carros2 = carros1\n",
        "\n",
        "print(\"carros2: \", carros2)\n",
        "\n",
        "carros1[\"agno\"] = 1970\n",
        "\n",
        "print(\"carros2: \", carros2)"
      ],
      "metadata": {
        "colab": {
          "base_uri": "https://localhost:8080/"
        },
        "id": "vf5Hu45IGOZX",
        "outputId": "01aae0c8-b6e7-423c-d1cd-983d44d941e6"
      },
      "execution_count": null,
      "outputs": [
        {
          "output_type": "stream",
          "name": "stdout",
          "text": [
            "carrros1:  {'marca': 'ford', 'modelo': 'mustang', 'agno': 1964}\n",
            "carros2:  {'marca': 'ford', 'modelo': 'mustang', 'agno': 1964}\n",
            "carros2:  {'marca': 'ford', 'modelo': 'mustang', 'agno': 1970}\n"
          ]
        }
      ]
    },
    {
      "cell_type": "code",
      "source": [
        "carros1 = {\"marca\": \"ford\",\n",
        "          \"modelo\": \"mustang\",\n",
        "          \"agno\": 1964}\n",
        "\n",
        "print(carros1)\n",
        "\n",
        "carros2 = carros1.copy()\n",
        "\n",
        "print(carros2)\n",
        "\n",
        "carros1[\"agno\"] = 1970\n",
        "\n",
        "print(carros2)"
      ],
      "metadata": {
        "colab": {
          "base_uri": "https://localhost:8080/"
        },
        "id": "uWaENVtyG6td",
        "outputId": "cb2d57db-819a-4a78-c6fc-56a3b98498d1"
      },
      "execution_count": null,
      "outputs": [
        {
          "output_type": "stream",
          "name": "stdout",
          "text": [
            "{'marca': 'ford', 'modelo': 'mustang', 'agno': 1964}\n",
            "{'marca': 'ford', 'modelo': 'mustang', 'agno': 1964}\n",
            "{'marca': 'ford', 'modelo': 'mustang', 'agno': 1964}\n"
          ]
        }
      ]
    },
    {
      "cell_type": "code",
      "source": [
        "datos = {\"nombre\": \"Joan\",\n",
        "         \"apellido\": \"Douglas\",\n",
        "         \"edad\": \"12\",\n",
        "         \"trabajo\": \"nada XD\",\n",
        "         \"pasatiempo\": \"videojuegos\",\n",
        "         }"
      ],
      "metadata": {
        "id": "2H_2JJzAHWoF"
      },
      "execution_count": null,
      "outputs": []
    },
    {
      "cell_type": "code",
      "source": [
        "datos1 = {\"nombre_com\": \"Joan Alexis Douglas Galvis\",\n",
        "         \"edad\": \"12\",\n",
        "         \"trabajo\": \"no trabajo\",\n",
        "         \"colegio\": \"Salesiano\"\n",
        "         }\n",
        "\n",
        "print(\"datos1: \", datos1)\n",
        "\n",
        "datos2 = datos1.copy()\n",
        "\n",
        "print(\"datos2: \", datos2)\n",
        "\n",
        "del(datos1)\n",
        "\n",
        "print(\"datos2: \", datos2)"
      ],
      "metadata": {
        "colab": {
          "base_uri": "https://localhost:8080/"
        },
        "id": "kjGzP5S9IlqR",
        "outputId": "2c40ae05-a817-481f-ffbd-7b26b5185630"
      },
      "execution_count": null,
      "outputs": [
        {
          "output_type": "stream",
          "name": "stdout",
          "text": [
            "datos1:  {'nombre_com': 'Joan Alexis Douglas Galvis', 'edad': '12', 'trabajo': 'no trabajo', 'colegio': 'Salesiano'}\n",
            "datos2:  {'nombre_com': 'Joan Alexis Douglas Galvis', 'edad': '12', 'trabajo': 'no trabajo', 'colegio': 'Salesiano'}\n",
            "datos2:  {'nombre_com': 'Joan Alexis Douglas Galvis', 'edad': '12', 'trabajo': 'no trabajo', 'colegio': 'Salesiano'}\n"
          ]
        }
      ]
    },
    {
      "cell_type": "code",
      "source": [
        "cadena = \"\"\" python no tiene un tipo de dato cerrado."
      ],
      "metadata": {
        "id": "-DwXiA-mmoGa"
      },
      "execution_count": null,
      "outputs": []
    },
    {
      "cell_type": "code",
      "source": [
        "produncto = \"ventilador\"\n",
        "\n",
        "precio = 95000\n",
        "\n",
        "descuento = 12.1254\n",
        "\n",
        "final = precio - (precio * (descuento/100))\n",
        "\n",
        "/c {print(\"el producto\",producto,)}"
      ],
      "metadata": {
        "id": "vyThQV34cCxA"
      },
      "execution_count": null,
      "outputs": []
    },
    {
      "cell_type": "code",
      "source": [
        "a = input(\"ingrese el valor de a : \")\n",
        "b = input(\"ingrese el valor de b : \")\n",
        "operacion = input(\"cual operacion quiere : \")\n",
        "\n",
        "if operacion == \"Suma\":\n",
        "  print(\"el valor de la suma es:  {a + b}\")\n",
        "\n",
        "elif operacion == \"Resta\":\n",
        "  print(\"el valor de la resta es: {a - b}\")\n",
        "\n",
        "elif operacion == \"Multiplicación\":\n",
        "  print(\"el valor de la multiplicación es:  {a * b}\")\n",
        "\n",
        "elif operacion == \"Division\":\n",
        "  print(\"el valor de la division es:  {a / b}\")\n",
        "\n",
        "else:\n",
        "  print(\"la operacion que elegiste no es valida\") #esto es para distraes XD"
      ],
      "metadata": {
        "colab": {
          "base_uri": "https://localhost:8080/"
        },
        "id": "Lv5cL8iAvhzs",
        "outputId": "6fa3b6ef-52f5-4a64-ad08-bd81b4478be8"
      },
      "execution_count": 10,
      "outputs": [
        {
          "output_type": "stream",
          "name": "stdout",
          "text": [
            "ingrese el valor de a : 12\n",
            "ingrese el valor de b : 31\n",
            "cual operacion quiere : Multiplicación\n",
            "el valor de la multiplicación es:  {a * b}\n"
          ]
        }
      ]
    },
    {
      "cell_type": "code",
      "source": [
        "a = int(input(\"ingrese el valor de a: \"))\n",
        "b = int(input(\"ingrese el valor de b: \"))\n",
        "c = int(input(\"ingrese el valor de c: \"))\n",
        "\n",
        "if a == b and b == c:\n",
        "  print(\"los tres valores son iguales\") #no pos miau XD\n",
        "\n",
        "if (a == b and b != c) or (a != b and b == c): #si lees esto tendras un gran dia (creo)\n",
        "  print(\"solo dos valores son iguales\")\n",
        "\n",
        "if a != b and b != c:\n",
        "  print(\"todos los valores son diferentes\") #Michis XD"
      ],
      "metadata": {
        "colab": {
          "base_uri": "https://localhost:8080/"
        },
        "id": "jnq-rFl12MvW",
        "outputId": "1231fb91-28c7-4c82-e5e4-19cd097874da"
      },
      "execution_count": 13,
      "outputs": [
        {
          "output_type": "stream",
          "name": "stdout",
          "text": [
            "ingrese el valor de a: 12\n",
            "ingrese el valor de b: 12\n",
            "ingrese el valor de c: 12\n",
            "los tres valores son iguales\n"
          ]
        }
      ]
    },
    {
      "cell_type": "code",
      "source": [],
      "metadata": {
        "id": "F3jRp5Hw76w2"
      },
      "execution_count": null,
      "outputs": []
    }
  ]
}